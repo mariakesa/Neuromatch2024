{
 "cells": [
  {
   "cell_type": "code",
   "execution_count": 2,
   "id": "ce8114aa",
   "metadata": {},
   "outputs": [
    {
     "name": "stdout",
     "output_type": "stream",
     "text": [
      "Cloning into 'neurogym'...\n",
      "remote: Enumerating objects: 11100, done.\u001b[K\n",
      "remote: Counting objects: 100% (273/273), done.\u001b[K\n",
      "remote: Compressing objects: 100% (105/105), done.\u001b[K\n",
      "remote: Total 11100 (delta 132), reused 234 (delta 115), pack-reused 10827\u001b[K\n",
      "Receiving objects: 100% (11100/11100), 8.20 MiB | 5.67 MiB/s, done.\n",
      "Resolving deltas: 100% (8318/8318), done.\n",
      "/home/maria/Neuromatch2024/neurogym\n",
      "Obtaining file:///home/maria/Neuromatch2024/neurogym\n",
      "  Preparing metadata (setup.py) ... \u001b[?25ldone\n",
      "\u001b[?25hRequirement already satisfied: numpy in /home/maria/anaconda3/lib/python3.9/site-packages (from neurogym==0.0.2) (1.23.5)\n",
      "Requirement already satisfied: gym<0.25,>=0.20.0 in /home/maria/anaconda3/lib/python3.9/site-packages (from neurogym==0.0.2) (0.24.1)\n",
      "Requirement already satisfied: matplotlib in /home/maria/anaconda3/lib/python3.9/site-packages (from neurogym==0.0.2) (3.7.1)\n",
      "Requirement already satisfied: cloudpickle>=1.2.0 in /home/maria/anaconda3/lib/python3.9/site-packages (from gym<0.25,>=0.20.0->neurogym==0.0.2) (2.0.0)\n",
      "Requirement already satisfied: gym-notices>=0.0.4 in /home/maria/anaconda3/lib/python3.9/site-packages (from gym<0.25,>=0.20.0->neurogym==0.0.2) (0.0.8)\n",
      "Requirement already satisfied: importlib-metadata>=4.8.0 in /home/maria/anaconda3/lib/python3.9/site-packages (from gym<0.25,>=0.20.0->neurogym==0.0.2) (6.7.0)\n",
      "Requirement already satisfied: contourpy>=1.0.1 in /home/maria/anaconda3/lib/python3.9/site-packages (from matplotlib->neurogym==0.0.2) (1.0.7)\n",
      "Requirement already satisfied: cycler>=0.10 in /home/maria/anaconda3/lib/python3.9/site-packages (from matplotlib->neurogym==0.0.2) (0.11.0)\n",
      "Requirement already satisfied: fonttools>=4.22.0 in /home/maria/anaconda3/lib/python3.9/site-packages (from matplotlib->neurogym==0.0.2) (4.25.0)\n",
      "Requirement already satisfied: kiwisolver>=1.0.1 in /home/maria/anaconda3/lib/python3.9/site-packages (from matplotlib->neurogym==0.0.2) (1.4.2)\n",
      "Requirement already satisfied: packaging>=20.0 in /home/maria/anaconda3/lib/python3.9/site-packages (from matplotlib->neurogym==0.0.2) (23.1)\n",
      "Requirement already satisfied: pillow>=6.2.0 in /home/maria/anaconda3/lib/python3.9/site-packages (from matplotlib->neurogym==0.0.2) (10.2.0)\n",
      "Requirement already satisfied: pyparsing>=2.3.1 in /home/maria/anaconda3/lib/python3.9/site-packages (from matplotlib->neurogym==0.0.2) (3.0.9)\n",
      "Requirement already satisfied: python-dateutil>=2.7 in /home/maria/anaconda3/lib/python3.9/site-packages (from matplotlib->neurogym==0.0.2) (2.8.2)\n",
      "Requirement already satisfied: importlib-resources>=3.2.0 in /home/maria/anaconda3/lib/python3.9/site-packages (from matplotlib->neurogym==0.0.2) (5.12.0)\n",
      "Requirement already satisfied: zipp>=0.5 in /home/maria/anaconda3/lib/python3.9/site-packages (from importlib-metadata>=4.8.0->gym<0.25,>=0.20.0->neurogym==0.0.2) (3.15.0)\n",
      "Requirement already satisfied: six>=1.5 in /home/maria/anaconda3/lib/python3.9/site-packages (from python-dateutil>=2.7->matplotlib->neurogym==0.0.2) (1.16.0)\n",
      "Installing collected packages: neurogym\n",
      "  Running setup.py develop for neurogym\n",
      "Successfully installed neurogym-0.0.2\n",
      "\n",
      "\u001b[1m[\u001b[0m\u001b[34;49mnotice\u001b[0m\u001b[1;39;49m]\u001b[0m\u001b[39;49m A new release of pip is available: \u001b[0m\u001b[31;49m24.0\u001b[0m\u001b[39;49m -> \u001b[0m\u001b[32;49m24.1.2\u001b[0m\n",
      "\u001b[1m[\u001b[0m\u001b[34;49mnotice\u001b[0m\u001b[1;39;49m]\u001b[0m\u001b[39;49m To update, run: \u001b[0m\u001b[32;49mpip install --upgrade pip\u001b[0m\n"
     ]
    }
   ],
   "source": [
    "! git clone https://github.com/gyyang/neurogym.git\n",
    "%cd neurogym/\n",
    "! pip install -e ."
   ]
  },
  {
   "cell_type": "code",
   "execution_count": 1,
   "id": "a77dbe81",
   "metadata": {},
   "outputs": [
    {
     "ename": "ModuleNotFoundError",
     "evalue": "No module named 'neurogym'",
     "output_type": "error",
     "traceback": [
      "\u001b[0;31m---------------------------------------------------------------------------\u001b[0m",
      "\u001b[0;31mModuleNotFoundError\u001b[0m                       Traceback (most recent call last)",
      "Cell \u001b[0;32mIn[1], line 1\u001b[0m\n\u001b[0;32m----> 1\u001b[0m \u001b[38;5;28;01mimport\u001b[39;00m \u001b[38;5;21;01mneurogym\u001b[39;00m \u001b[38;5;28;01mas\u001b[39;00m \u001b[38;5;21;01mngym\u001b[39;00m\n\u001b[1;32m      2\u001b[0m \u001b[38;5;28;01mfrom\u001b[39;00m \u001b[38;5;21;01mneurogym\u001b[39;00m \u001b[38;5;28;01mimport\u001b[39;00m spaces\n\u001b[1;32m      3\u001b[0m \u001b[38;5;28;01mimport\u001b[39;00m \u001b[38;5;21;01mnumpy\u001b[39;00m \u001b[38;5;28;01mas\u001b[39;00m \u001b[38;5;21;01mnp\u001b[39;00m\n",
      "\u001b[0;31mModuleNotFoundError\u001b[0m: No module named 'neurogym'"
     ]
    }
   ],
   "source": [
    "import neurogym as ngym\n",
    "from neurogym import spaces\n",
    "import numpy as np\n",
    "from stable_baselines3 import PPO\n",
    "from stable_baselines3.common.env_checker import check_env\n",
    "\n",
    "\n",
    "class ReactionTimeTask(ngym.TrialEnv):\n",
    "    def __init__(self, dt=100):\n",
    "        super().__init__(dt=dt)\n",
    "        self.action_space = spaces.Discrete(2)\n",
    "        self.observation_space = spaces.Box(low=0, high=1, shape=(1,))\n",
    "        self.current_stimulus = 0\n",
    "\n",
    "    def _new_trial(self, **kwargs):\n",
    "        trial = {'stimulus': np.random.choice([0, 1])}\n",
    "        self.current_stimulus = trial['stimulus']\n",
    "        return trial\n",
    "\n",
    "    def _step(self, action):\n",
    "        reward = 0\n",
    "        if self.current_stimulus == 1 and action == 1:\n",
    "            reward = 1\n",
    "        done = True\n",
    "        obs = np.array([self.current_stimulus])\n",
    "        return obs, reward, done, {}\n",
    "\n",
    "class GoNoGoTask(ngym.TrialEnv):\n",
    "    def __init__(self, dt=100):\n",
    "        super().__init__(dt=dt)\n",
    "        self.action_space = spaces.Discrete(2)\n",
    "        self.observation_space = spaces.Box(low=0, high=1, shape=(1,))\n",
    "        self.current_stimulus = 0\n",
    "\n",
    "    def _new_trial(self, **kwargs):\n",
    "        trial = {'stimulus': np.random.choice([0, 1])}\n",
    "        self.current_stimulus = trial['stimulus']\n",
    "        return trial\n",
    "\n",
    "    def _step(self, action):\n",
    "        reward = 0\n",
    "        if self.current_stimulus == 1 and action == 1:\n",
    "            reward = 1\n",
    "        elif self.current_stimulus == 0 and action == 0:\n",
    "            reward = 1\n",
    "        done = True\n",
    "        obs = np.array([self.current_stimulus])\n",
    "        return obs, reward, done, {}\n",
    "\n",
    "class HierarchicalTask(ngym.CompoundTask):\n",
    "    def __init__(self, dt=100):\n",
    "        sub_tasks = [ReactionTimeTask(dt=dt), GoNoGoTask(dt=dt)]\n",
    "        super().__init__(sub_tasks, dt=dt)\n",
    "\n",
    "    def _new_trial(self, **kwargs):\n",
    "        trial = self.choose_subtask()\n",
    "        return trial\n",
    "\n",
    "    def _step(self, action):\n",
    "        obs, reward, done, info = self.subtasks[self.current_task]._step(action)\n",
    "        return obs, reward, done, info\n",
    "\n",
    "# Instantiate the environment\n",
    "env = HierarchicalTask(dt=100)\n",
    "\n",
    "# Check if the environment follows the Gym API\n",
    "check_env(env)\n"
   ]
  }
 ],
 "metadata": {
  "kernelspec": {
   "display_name": "Python 3 (ipykernel)",
   "language": "python",
   "name": "python3"
  },
  "language_info": {
   "codemirror_mode": {
    "name": "ipython",
    "version": 3
   },
   "file_extension": ".py",
   "mimetype": "text/x-python",
   "name": "python",
   "nbconvert_exporter": "python",
   "pygments_lexer": "ipython3",
   "version": "3.9.13"
  }
 },
 "nbformat": 4,
 "nbformat_minor": 5
}
