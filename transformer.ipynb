{
 "cells": [
  {
   "cell_type": "code",
   "execution_count": 2,
   "metadata": {},
   "outputs": [
    {
     "name": "stdout",
     "output_type": "stream",
     "text": [
      "torch.Size([1, 16, 16])\n",
      "torch.Size([1, 16, 16])\n",
      "torch.Size([1, 16, 16])\n",
      "torch.Size([1, 16, 16])\n",
      "torch.Size([1, 16, 16])\n",
      "torch.Size([1, 16, 16])\n",
      "torch.Size([1, 16, 16])\n",
      "torch.Size([1, 16, 16])\n",
      "torch.Size([1, 16, 16])\n",
      "torch.Size([1, 16, 16])\n",
      "torch.Size([1, 16, 16])\n",
      "torch.Size([1, 16, 16])\n",
      "torch.Size([1, 16, 16])\n",
      "torch.Size([1, 16, 16])\n",
      "torch.Size([1, 16, 16])\n",
      "torch.Size([1, 16, 16])\n",
      "torch.Size([1, 16, 16])\n",
      "torch.Size([1, 16, 16])\n",
      "torch.Size([1, 16, 16])\n",
      "torch.Size([1, 16, 16])\n",
      "torch.Size([1, 16, 16])\n",
      "torch.Size([1, 16, 16])\n",
      "torch.Size([1, 16, 16])\n",
      "torch.Size([1, 16, 16])\n",
      "torch.Size([1, 16, 16])\n",
      "torch.Size([1, 16, 16])\n",
      "torch.Size([1, 16, 16])\n",
      "torch.Size([1, 16, 16])\n",
      "torch.Size([1, 16, 16])\n",
      "torch.Size([1, 16, 16])\n",
      "torch.Size([1, 16, 16])\n",
      "episode 0 win pct -16.00 epsilon 1.00\n",
      "torch.Size([1, 16, 16])\n",
      "torch.Size([1, 16, 16])\n",
      "torch.Size([1, 16, 16])\n",
      "torch.Size([1, 16, 16])\n",
      "torch.Size([1, 16, 16])\n",
      "torch.Size([1, 16, 16])\n",
      "torch.Size([1, 16, 16])\n",
      "torch.Size([1, 16, 16])\n",
      "torch.Size([1, 16, 16])\n",
      "torch.Size([1, 16, 16])\n",
      "torch.Size([1, 16, 16])\n",
      "torch.Size([1, 16, 16])\n",
      "torch.Size([1, 16, 16])\n",
      "torch.Size([1, 16, 16])\n",
      "torch.Size([1, 16, 16])\n",
      "torch.Size([1, 16, 16])\n",
      "torch.Size([1, 16, 16])\n",
      "torch.Size([1, 16, 16])\n",
      "torch.Size([1, 16, 16])\n",
      "torch.Size([1, 16, 16])\n",
      "torch.Size([1, 16, 16])\n",
      "torch.Size([1, 16, 16])\n",
      "torch.Size([1, 16, 16])\n",
      "torch.Size([1, 16, 16])\n",
      "torch.Size([1, 16, 16])\n",
      "torch.Size([1, 16, 16])\n",
      "torch.Size([1, 16, 16])\n",
      "torch.Size([1, 16, 16])\n",
      "torch.Size([1, 16, 16])\n",
      "torch.Size([1, 16, 16])\n",
      "torch.Size([1, 16, 16])\n",
      "torch.Size([1, 16, 16])\n",
      "torch.Size([1, 16, 16])\n"
     ]
    },
    {
     "ename": "RuntimeError",
     "evalue": "The size of tensor a (64) must match the size of tensor b (16) at non-singleton dimension 1",
     "output_type": "error",
     "traceback": [
      "\u001b[0;31m---------------------------------------------------------------------------\u001b[0m",
      "\u001b[0;31mRuntimeError\u001b[0m                              Traceback (most recent call last)",
      "Cell \u001b[0;32mIn[2], line 17\u001b[0m\n\u001b[1;32m     14\u001b[0m q_transformer \u001b[38;5;241m=\u001b[39m TransformerDecoderQNetwork(input_dim, hidden_dim, output_dim, max_seq_len, num_heads, num_layers)\n\u001b[1;32m     15\u001b[0m agent\u001b[38;5;241m=\u001b[39mDQNAgentTransformer(q_transformer,env)\n\u001b[0;32m---> 17\u001b[0m \u001b[43mtrain_transformer\u001b[49m\u001b[43m(\u001b[49m\u001b[43menv\u001b[49m\u001b[43m,\u001b[49m\u001b[43m \u001b[49m\u001b[43magent\u001b[49m\u001b[43m,\u001b[49m\u001b[43m \u001b[49m\u001b[43mn_episodes\u001b[49m\u001b[38;5;241;43m=\u001b[39;49m\u001b[38;5;241;43m2500\u001b[39;49m\u001b[43m)\u001b[49m\n",
      "File \u001b[0;32m~/Neuromatch2024/train.py:65\u001b[0m, in \u001b[0;36mtrain_transformer\u001b[0;34m(env, agent, n_episodes)\u001b[0m\n\u001b[1;32m     63\u001b[0m next_state \u001b[38;5;241m=\u001b[39m one_hot_encode(next_state, env\u001b[38;5;241m.\u001b[39mobservation_space\u001b[38;5;241m.\u001b[39mn)\n\u001b[1;32m     64\u001b[0m agent\u001b[38;5;241m.\u001b[39mstore_transition(state, action, reward, next_state, done)\n\u001b[0;32m---> 65\u001b[0m \u001b[43magent\u001b[49m\u001b[38;5;241;43m.\u001b[39;49m\u001b[43mlearn\u001b[49m\u001b[43m(\u001b[49m\u001b[43m)\u001b[49m  \u001b[38;5;66;03m# Update Q-network\u001b[39;00m\n\u001b[1;32m     66\u001b[0m state \u001b[38;5;241m=\u001b[39m next_state  \u001b[38;5;66;03m# Move to the next state\u001b[39;00m\n\u001b[1;32m     67\u001b[0m score \u001b[38;5;241m+\u001b[39m\u001b[38;5;241m=\u001b[39m reward\n",
      "File \u001b[0;32m~/Neuromatch2024/agent.py:296\u001b[0m, in \u001b[0;36mDQNAgentTransformer.learn\u001b[0;34m(self)\u001b[0m\n\u001b[1;32m    293\u001b[0m dones_tensor \u001b[38;5;241m=\u001b[39m torch\u001b[38;5;241m.\u001b[39mtensor(dones)\u001b[38;5;241m.\u001b[39munsqueeze(\u001b[38;5;241m-\u001b[39m\u001b[38;5;241m1\u001b[39m)\u001b[38;5;241m.\u001b[39mto(\u001b[38;5;28mself\u001b[39m\u001b[38;5;241m.\u001b[39mdevice)\n\u001b[1;32m    295\u001b[0m \u001b[38;5;66;03m# Forward pass for current and next Q-values\u001b[39;00m\n\u001b[0;32m--> 296\u001b[0m current_q_values \u001b[38;5;241m=\u001b[39m \u001b[38;5;28;43mself\u001b[39;49m\u001b[38;5;241;43m.\u001b[39;49m\u001b[43mq_network\u001b[49m\u001b[43m(\u001b[49m\u001b[43mstates_tensor\u001b[49m\u001b[43m,\u001b[49m\u001b[43m \u001b[49m\u001b[43mtgt_mask\u001b[49m\u001b[38;5;241;43m=\u001b[39;49m\u001b[38;5;28;43;01mNone\u001b[39;49;00m\u001b[43m)\u001b[49m\n\u001b[1;32m    297\u001b[0m current_q_values \u001b[38;5;241m=\u001b[39m current_q_values\u001b[38;5;241m.\u001b[39mgather(\n\u001b[1;32m    298\u001b[0m     \u001b[38;5;241m1\u001b[39m, actions_tensor)  \u001b[38;5;66;03m# Gather Q-values for chosen actions\u001b[39;00m\n\u001b[1;32m    300\u001b[0m next_q_values \u001b[38;5;241m=\u001b[39m \u001b[38;5;28mself\u001b[39m\u001b[38;5;241m.\u001b[39mq_network(next_states_tensor, tgt_mask\u001b[38;5;241m=\u001b[39m\u001b[38;5;28;01mNone\u001b[39;00m)\n",
      "File \u001b[0;32m~/anaconda3/lib/python3.9/site-packages/torch/nn/modules/module.py:1532\u001b[0m, in \u001b[0;36mModule._wrapped_call_impl\u001b[0;34m(self, *args, **kwargs)\u001b[0m\n\u001b[1;32m   1530\u001b[0m     \u001b[38;5;28;01mreturn\u001b[39;00m \u001b[38;5;28mself\u001b[39m\u001b[38;5;241m.\u001b[39m_compiled_call_impl(\u001b[38;5;241m*\u001b[39margs, \u001b[38;5;241m*\u001b[39m\u001b[38;5;241m*\u001b[39mkwargs)  \u001b[38;5;66;03m# type: ignore[misc]\u001b[39;00m\n\u001b[1;32m   1531\u001b[0m \u001b[38;5;28;01melse\u001b[39;00m:\n\u001b[0;32m-> 1532\u001b[0m     \u001b[38;5;28;01mreturn\u001b[39;00m \u001b[38;5;28;43mself\u001b[39;49m\u001b[38;5;241;43m.\u001b[39;49m\u001b[43m_call_impl\u001b[49m\u001b[43m(\u001b[49m\u001b[38;5;241;43m*\u001b[39;49m\u001b[43margs\u001b[49m\u001b[43m,\u001b[49m\u001b[43m \u001b[49m\u001b[38;5;241;43m*\u001b[39;49m\u001b[38;5;241;43m*\u001b[39;49m\u001b[43mkwargs\u001b[49m\u001b[43m)\u001b[49m\n",
      "File \u001b[0;32m~/anaconda3/lib/python3.9/site-packages/torch/nn/modules/module.py:1541\u001b[0m, in \u001b[0;36mModule._call_impl\u001b[0;34m(self, *args, **kwargs)\u001b[0m\n\u001b[1;32m   1536\u001b[0m \u001b[38;5;66;03m# If we don't have any hooks, we want to skip the rest of the logic in\u001b[39;00m\n\u001b[1;32m   1537\u001b[0m \u001b[38;5;66;03m# this function, and just call forward.\u001b[39;00m\n\u001b[1;32m   1538\u001b[0m \u001b[38;5;28;01mif\u001b[39;00m \u001b[38;5;129;01mnot\u001b[39;00m (\u001b[38;5;28mself\u001b[39m\u001b[38;5;241m.\u001b[39m_backward_hooks \u001b[38;5;129;01mor\u001b[39;00m \u001b[38;5;28mself\u001b[39m\u001b[38;5;241m.\u001b[39m_backward_pre_hooks \u001b[38;5;129;01mor\u001b[39;00m \u001b[38;5;28mself\u001b[39m\u001b[38;5;241m.\u001b[39m_forward_hooks \u001b[38;5;129;01mor\u001b[39;00m \u001b[38;5;28mself\u001b[39m\u001b[38;5;241m.\u001b[39m_forward_pre_hooks\n\u001b[1;32m   1539\u001b[0m         \u001b[38;5;129;01mor\u001b[39;00m _global_backward_pre_hooks \u001b[38;5;129;01mor\u001b[39;00m _global_backward_hooks\n\u001b[1;32m   1540\u001b[0m         \u001b[38;5;129;01mor\u001b[39;00m _global_forward_hooks \u001b[38;5;129;01mor\u001b[39;00m _global_forward_pre_hooks):\n\u001b[0;32m-> 1541\u001b[0m     \u001b[38;5;28;01mreturn\u001b[39;00m \u001b[43mforward_call\u001b[49m\u001b[43m(\u001b[49m\u001b[38;5;241;43m*\u001b[39;49m\u001b[43margs\u001b[49m\u001b[43m,\u001b[49m\u001b[43m \u001b[49m\u001b[38;5;241;43m*\u001b[39;49m\u001b[38;5;241;43m*\u001b[39;49m\u001b[43mkwargs\u001b[49m\u001b[43m)\u001b[49m\n\u001b[1;32m   1543\u001b[0m \u001b[38;5;28;01mtry\u001b[39;00m:\n\u001b[1;32m   1544\u001b[0m     result \u001b[38;5;241m=\u001b[39m \u001b[38;5;28;01mNone\u001b[39;00m\n",
      "File \u001b[0;32m~/Neuromatch2024/networks.py:91\u001b[0m, in \u001b[0;36mTransformerDecoderQNetwork.forward\u001b[0;34m(self, x, tgt_mask)\u001b[0m\n\u001b[1;32m     89\u001b[0m \u001b[38;5;28;01mdef\u001b[39;00m \u001b[38;5;21mforward\u001b[39m(\u001b[38;5;28mself\u001b[39m, x, tgt_mask\u001b[38;5;241m=\u001b[39m\u001b[38;5;28;01mNone\u001b[39;00m):\n\u001b[1;32m     90\u001b[0m     \u001b[38;5;66;03m# Add input embeddings\u001b[39;00m\n\u001b[0;32m---> 91\u001b[0m     x \u001b[38;5;241m=\u001b[39m \u001b[38;5;28;43mself\u001b[39;49m\u001b[38;5;241;43m.\u001b[39;49m\u001b[43minput_embedding\u001b[49m\u001b[43m(\u001b[49m\n\u001b[1;32m     92\u001b[0m \u001b[43m        \u001b[49m\u001b[43mx\u001b[49m\u001b[43m)\u001b[49m\u001b[43m \u001b[49m\u001b[38;5;241;43m+\u001b[39;49m\u001b[43m \u001b[49m\u001b[38;5;28;43mself\u001b[39;49m\u001b[38;5;241;43m.\u001b[39;49m\u001b[43mpositional_encoding\u001b[49m\u001b[43m[\u001b[49m\u001b[43m:\u001b[49m\u001b[43m,\u001b[49m\u001b[43m \u001b[49m\u001b[43m:\u001b[49m\u001b[43mx\u001b[49m\u001b[38;5;241;43m.\u001b[39;49m\u001b[43msize\u001b[49m\u001b[43m(\u001b[49m\u001b[38;5;241;43m1\u001b[39;49m\u001b[43m)\u001b[49m\u001b[43m,\u001b[49m\u001b[43m \u001b[49m\u001b[43m:\u001b[49m\u001b[43m]\u001b[49m\u001b[38;5;241;43m.\u001b[39;49m\u001b[43mto\u001b[49m\u001b[43m(\u001b[49m\u001b[43mx\u001b[49m\u001b[38;5;241;43m.\u001b[39;49m\u001b[43mdevice\u001b[49m\u001b[43m)\u001b[49m\n\u001b[1;32m     94\u001b[0m     \u001b[38;5;66;03m# Pass through decoder layers\u001b[39;00m\n\u001b[1;32m     95\u001b[0m     \u001b[38;5;28;01mfor\u001b[39;00m layer \u001b[38;5;129;01min\u001b[39;00m \u001b[38;5;28mself\u001b[39m\u001b[38;5;241m.\u001b[39mdecoder_layers:\n",
      "\u001b[0;31mRuntimeError\u001b[0m: The size of tensor a (64) must match the size of tensor b (16) at non-singleton dimension 1"
     ]
    }
   ],
   "source": [
    "from train import train, train_transformer\n",
    "from environment import DelaySampleToMatchEnv\n",
    "from networks import TransformerDecoderQNetwork\n",
    "from agent import DQNAgent, DQNAgentTransformer\n",
    "\n",
    "input_dim = 16  # Example value\n",
    "hidden_dim = 64\n",
    "output_dim = 16  # Example value\n",
    "max_seq_len = 100\n",
    "num_heads = 8\n",
    "num_layers = 6\n",
    "\n",
    "env=DelaySampleToMatchEnv(n_stimuli=15)\n",
    "q_transformer = TransformerDecoderQNetwork(input_dim, hidden_dim, output_dim, max_seq_len, num_heads, num_layers)\n",
    "agent=DQNAgentTransformer(q_transformer,env)\n",
    "\n",
    "train_transformer(env, agent, n_episodes=2500)"
   ]
  },
  {
   "cell_type": "code",
   "execution_count": 3,
   "metadata": {},
   "outputs": [
    {
     "ename": "NameError",
     "evalue": "name 'np' is not defined",
     "output_type": "error",
     "traceback": [
      "\u001b[0;31m---------------------------------------------------------------------------\u001b[0m",
      "\u001b[0;31mNameError\u001b[0m                                 Traceback (most recent call last)",
      "Cell \u001b[0;32mIn[3], line 8\u001b[0m\n\u001b[1;32m      5\u001b[0m num_heads \u001b[38;5;241m=\u001b[39m \u001b[38;5;241m8\u001b[39m\n\u001b[1;32m      6\u001b[0m num_layers \u001b[38;5;241m=\u001b[39m \u001b[38;5;241m6\u001b[39m\n\u001b[0;32m----> 8\u001b[0m q_transformer \u001b[38;5;241m=\u001b[39m \u001b[43mTransformerDecoderQNetwork\u001b[49m\u001b[43m(\u001b[49m\u001b[43minput_dim\u001b[49m\u001b[43m,\u001b[49m\u001b[43m \u001b[49m\u001b[43mhidden_dim\u001b[49m\u001b[43m,\u001b[49m\u001b[43m \u001b[49m\u001b[43moutput_dim\u001b[49m\u001b[43m,\u001b[49m\u001b[43m \u001b[49m\u001b[43mmax_seq_len\u001b[49m\u001b[43m,\u001b[49m\u001b[43m \u001b[49m\u001b[43mnum_heads\u001b[49m\u001b[43m,\u001b[49m\u001b[43m \u001b[49m\u001b[43mnum_layers\u001b[49m\u001b[43m)\u001b[49m\n\u001b[1;32m      9\u001b[0m agent\u001b[38;5;241m=\u001b[39mDQNAgent(q_transformer)\n",
      "File \u001b[0;32m~/Neuromatch2024/networks.py:64\u001b[0m, in \u001b[0;36mTransformerDecoderQNetwork.__init__\u001b[0;34m(self, input_dim, hidden_dim, output_dim, max_seq_len, num_heads, num_layers)\u001b[0m\n\u001b[1;32m     62\u001b[0m \u001b[38;5;66;03m# Embedding layers\u001b[39;00m\n\u001b[1;32m     63\u001b[0m \u001b[38;5;28mself\u001b[39m\u001b[38;5;241m.\u001b[39minput_embedding \u001b[38;5;241m=\u001b[39m nn\u001b[38;5;241m.\u001b[39mLinear(input_dim, hidden_dim)\n\u001b[0;32m---> 64\u001b[0m \u001b[38;5;28mself\u001b[39m\u001b[38;5;241m.\u001b[39mpositional_encoding \u001b[38;5;241m=\u001b[39m \u001b[38;5;28;43mself\u001b[39;49m\u001b[38;5;241;43m.\u001b[39;49m\u001b[43mcreate_positional_encoding\u001b[49m\u001b[43m(\u001b[49m\n\u001b[1;32m     65\u001b[0m \u001b[43m    \u001b[49m\u001b[43mmax_seq_len\u001b[49m\u001b[43m,\u001b[49m\u001b[43m \u001b[49m\u001b[43mhidden_dim\u001b[49m\u001b[43m)\u001b[49m\n\u001b[1;32m     67\u001b[0m \u001b[38;5;66;03m# Transformer decoder layers\u001b[39;00m\n\u001b[1;32m     68\u001b[0m \u001b[38;5;28mself\u001b[39m\u001b[38;5;241m.\u001b[39mdecoder_layers \u001b[38;5;241m=\u001b[39m nn\u001b[38;5;241m.\u001b[39mModuleList(\n\u001b[1;32m     69\u001b[0m     [nn\u001b[38;5;241m.\u001b[39mTransformerDecoderLayer(hidden_dim, num_heads)\n\u001b[1;32m     70\u001b[0m      \u001b[38;5;28;01mfor\u001b[39;00m _ \u001b[38;5;129;01min\u001b[39;00m \u001b[38;5;28mrange\u001b[39m(num_layers)]\n\u001b[1;32m     71\u001b[0m )\n",
      "File \u001b[0;32m~/Neuromatch2024/networks.py:80\u001b[0m, in \u001b[0;36mTransformerDecoderQNetwork.create_positional_encoding\u001b[0;34m(self, max_seq_len, d_model)\u001b[0m\n\u001b[1;32m     78\u001b[0m \u001b[38;5;28;01mfor\u001b[39;00m pos \u001b[38;5;129;01min\u001b[39;00m \u001b[38;5;28mrange\u001b[39m(max_seq_len):\n\u001b[1;32m     79\u001b[0m     \u001b[38;5;28;01mfor\u001b[39;00m i \u001b[38;5;129;01min\u001b[39;00m \u001b[38;5;28mrange\u001b[39m(\u001b[38;5;241m0\u001b[39m, d_model, \u001b[38;5;241m2\u001b[39m):\n\u001b[0;32m---> 80\u001b[0m         pos_enc[pos, i] \u001b[38;5;241m=\u001b[39m \u001b[43mnp\u001b[49m\u001b[38;5;241m.\u001b[39msin(pos \u001b[38;5;241m/\u001b[39m (\u001b[38;5;241m10000\u001b[39m \u001b[38;5;241m*\u001b[39m\u001b[38;5;241m*\u001b[39m ((\u001b[38;5;241m2\u001b[39m \u001b[38;5;241m*\u001b[39m i) \u001b[38;5;241m/\u001b[39m d_model)))\n\u001b[1;32m     81\u001b[0m         pos_enc[pos, i \u001b[38;5;241m+\u001b[39m\n\u001b[1;32m     82\u001b[0m                 \u001b[38;5;241m1\u001b[39m] \u001b[38;5;241m=\u001b[39m np\u001b[38;5;241m.\u001b[39mcos(pos \u001b[38;5;241m/\u001b[39m (\u001b[38;5;241m10000\u001b[39m \u001b[38;5;241m*\u001b[39m\u001b[38;5;241m*\u001b[39m ((\u001b[38;5;241m2\u001b[39m \u001b[38;5;241m*\u001b[39m (i \u001b[38;5;241m+\u001b[39m \u001b[38;5;241m1\u001b[39m)) \u001b[38;5;241m/\u001b[39m d_model)))\n\u001b[1;32m     83\u001b[0m pos_enc \u001b[38;5;241m=\u001b[39m pos_enc\u001b[38;5;241m.\u001b[39munsqueeze(\u001b[38;5;241m0\u001b[39m)  \u001b[38;5;66;03m# Add batch dimension\u001b[39;00m\n",
      "\u001b[0;31mNameError\u001b[0m: name 'np' is not defined"
     ]
    }
   ],
   "source": []
  },
  {
   "cell_type": "code",
   "execution_count": null,
   "metadata": {},
   "outputs": [],
   "source": []
  }
 ],
 "metadata": {
  "kernelspec": {
   "display_name": "base",
   "language": "python",
   "name": "python3"
  },
  "language_info": {
   "codemirror_mode": {
    "name": "ipython",
    "version": 3
   },
   "file_extension": ".py",
   "mimetype": "text/x-python",
   "name": "python",
   "nbconvert_exporter": "python",
   "pygments_lexer": "ipython3",
   "version": "3.9.13"
  }
 },
 "nbformat": 4,
 "nbformat_minor": 2
}
