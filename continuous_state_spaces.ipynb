{
 "cells": [
  {
   "cell_type": "code",
   "execution_count": 13,
   "metadata": {},
   "outputs": [
    {
     "data": {
      "text/plain": [
       "tensor(0)"
      ]
     },
     "execution_count": 13,
     "metadata": {},
     "output_type": "execute_result"
    }
   ],
   "source": [
    "from torch import nn \n",
    "from torch.functional import F\n",
    "import torch\n",
    "import numpy as np\n",
    "device='cuda'\n",
    "\n",
    "    \n",
    "class DQN(nn.Module):\n",
    "\n",
    "    def __init__(self, n_observations, n_actions):\n",
    "        super(DQN, self).__init__()\n",
    "        self.layer1 = nn.Linear(n_observations, 128)\n",
    "        self.layer2 = nn.Linear(128, 128)\n",
    "        self.layer3 = nn.Linear(128, n_actions)\n",
    "\n",
    "        self.optimizer=torch.optim.Adam(self.parameters(), lr=0.001)\n",
    "        self.loss=nn.MSELoss()\n",
    "        device='cuda'\n",
    "        self.to(device)\n",
    "\n",
    "    # Called with either one element to determine next action, or a batch\n",
    "    # during optimization. Returns tensor([[left0exp,right0exp]...]).\n",
    "    def forward(self, x):\n",
    "        x = F.relu(self.layer1(x))\n",
    "        x = F.relu(self.layer2(x))\n",
    "        return self.layer3(x)\n",
    "\n",
    "class Agent():\n",
    "    def __init__(self, lr, gamma, n_states, n_actions, eps_start, eps_end, eps_dec):\n",
    "        self.lr=lr\n",
    "        self.gamma=gamma\n",
    "        self.n_states=n_states\n",
    "        self.n_actions=n_actions\n",
    "        self.epsilon=eps_start\n",
    "        self.eps_min=eps_end\n",
    "        self.eps_dec=eps_dec\n",
    "\n",
    "        self.Q=DQN(self.n_states, self.n_actions)\n",
    "\n",
    "    def choose_action(self, state):\n",
    "        if np.random.random() > self.epsilon:\n",
    "            state = torch.tensor([state], dtype=torch.float).to(device)\n",
    "            actions=self.Q.forward(state)\n",
    "            action=torch.argmax(actions).item()\n",
    "        else:\n",
    "            action=torch.tensor(np.random.choice(\n",
    "                [i for i in range(self.n_actions) ]))\n",
    "        return action\n",
    "    \n",
    "#DQN(4, 2)#(torch.rand(1, 4).to('cuda'))\n",
    "\n",
    "agent=Agent(0.001, 0.99, 4, 2, 1.0, 0.01, 0.001)\n",
    "agent.choose_action([1, 2, 3, 4])"
   ]
  }
 ],
 "metadata": {
  "kernelspec": {
   "display_name": "base",
   "language": "python",
   "name": "python3"
  },
  "language_info": {
   "codemirror_mode": {
    "name": "ipython",
    "version": 3
   },
   "file_extension": ".py",
   "mimetype": "text/x-python",
   "name": "python",
   "nbconvert_exporter": "python",
   "pygments_lexer": "ipython3",
   "version": "3.9.13"
  }
 },
 "nbformat": 4,
 "nbformat_minor": 2
}
