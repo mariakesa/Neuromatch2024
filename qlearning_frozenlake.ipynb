{
 "cells": [
  {
   "cell_type": "code",
   "execution_count": 11,
   "metadata": {},
   "outputs": [],
   "source": [
    "# -*- coding: utf-8 -*-\n",
    "\"\"\"\n",
    "Get Q-learning to work on the FrozenLake environment\n",
    "\"\"\"\n",
    "\n",
    "import gymnasium as gym\n",
    "\n",
    "# Create the environment\n",
    "env = gym.make('FrozenLake-v1', desc=None, map_name=\"4x4\", is_slippery=False)\n",
    "\n",
    "# Get the number of states\n",
    "num_states = env.observation_space.n\n",
    "num_actions = env.action_space.n\n",
    "\n",
    "# Generate a list of states\n",
    "states = range(num_states)\n",
    "actions= range(num_actions)\n",
    "\n",
    "#Make a Q-table\n",
    "q_table={}\n",
    "for s in states:\n",
    "    for a in actions:\n",
    "        state_action=(s,a)\n",
    "        q_table[state_action]=0"
   ]
  },
  {
   "cell_type": "code",
   "execution_count": 19,
   "metadata": {},
   "outputs": [
    {
     "name": "stdout",
     "output_type": "stream",
     "text": [
      "{(0, 0): 0.0, (0, 1): 0.0, (0, 2): 0.0, (0, 3): 0.0, (1, 0): 0, (1, 1): 0.0, (1, 2): 0, (1, 3): 0, (2, 0): 0, (2, 1): 0, (2, 2): 0, (2, 3): 0, (3, 0): 0, (3, 1): 0, (3, 2): 0, (3, 3): 0, (4, 0): 0.0, (4, 1): 0, (4, 2): 0.0, (4, 3): 0.0, (5, 0): 0, (5, 1): 0, (5, 2): 0, (5, 3): 0, (6, 0): 0, (6, 1): 0, (6, 2): 0, (6, 3): 0, (7, 0): 0, (7, 1): 0, (7, 2): 0, (7, 3): 0, (8, 0): 0, (8, 1): 0, (8, 2): 0, (8, 3): 0, (9, 0): 0, (9, 1): 0, (9, 2): 0, (9, 3): 0, (10, 0): 0, (10, 1): 0, (10, 2): 0, (10, 3): 0, (11, 0): 0, (11, 1): 0, (11, 2): 0, (11, 3): 0, (12, 0): 0, (12, 1): 0, (12, 2): 0, (12, 3): 0, (13, 0): 0, (13, 1): 0, (13, 2): 0, (13, 3): 0, (14, 0): 0, (14, 1): 0, (14, 2): 0, (14, 3): 0, (15, 0): 0, (15, 1): 0, (15, 2): 0, (15, 3): 0}\n"
     ]
    }
   ],
   "source": [
    "n_episodes=1\n",
    "alpha=0.001\n",
    "gamma=0.9\n",
    "epsilon=0.1\n",
    "for i in range(n_episodes):\n",
    "    state=env.reset()[0]\n",
    "    done=False\n",
    "    while not done:\n",
    "        action=env.action_space.sample()\n",
    "        next_state, reward, done, info, prob = env.step(action)\n",
    "        q_table[(state,action)]+=alpha*(reward+gamma*max([q_table[(next_state,a)] for a in actions])-q_table[(state,action)]\n",
    "        state=next_state\n",
    "print(q_table)"
   ]
  }
 ],
 "metadata": {
  "kernelspec": {
   "display_name": "base",
   "language": "python",
   "name": "python3"
  },
  "language_info": {
   "codemirror_mode": {
    "name": "ipython",
    "version": 3
   },
   "file_extension": ".py",
   "mimetype": "text/x-python",
   "name": "python",
   "nbconvert_exporter": "python",
   "pygments_lexer": "ipython3",
   "version": "3.9.13"
  }
 },
 "nbformat": 4,
 "nbformat_minor": 2
}
